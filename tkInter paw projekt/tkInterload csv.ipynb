{
 "cells": [
  {
   "cell_type": "markdown",
   "metadata": {},
   "source": [
    "# Import Required Libraries\n",
    "Import pandas for handling CSV files and any other necessary libraries."
   ]
  },
  {
   "cell_type": "code",
   "execution_count": 5,
   "metadata": {},
   "outputs": [],
   "source": [
    "import pandas as pd\n",
    "import tkinter as tk\n",
    "from tkinter import filedialog, ttk"
   ]
  },
  {
   "cell_type": "markdown",
   "metadata": {},
   "source": [
    "# Load and Display CSV Data\n",
    "Use pandas to load a CSV file and display its content with correct headers using the head() method."
   ]
  },
  {
   "cell_type": "code",
   "execution_count": 8,
   "metadata": {},
   "outputs": [],
   "source": [
    "def load_csv():\n",
    "    file_path = filedialog.askopenfilename(filetypes=[(\"CSV files\", \"*.csv\")])\n",
    "    if not file_path:\n",
    "        return  # If no file is selected, do nothing\n",
    "    \n",
    "    df = pd.read_csv(file_path)  # Read the CSV file\n",
    "\n",
    "    # Clear previous data in the treeview\n",
    "    for i in tree.get_children():\n",
    "        tree.delete(i)\n",
    "    \n",
    "    # Set column headers\n",
    "    tree[\"columns\"] = list(df.columns)\n",
    "    tree[\"show\"] = \"headings\"\n",
    "\n",
    "    for col in df.columns:\n",
    "        tree.heading(col, text=col, anchor=\"center\")  # Center column headers\n",
    "        tree.column(col, anchor=\"center\", width=100)  # Center data and set width\n",
    "\n",
    "    # Insert data into treeview\n",
    "    for index, row in df.iterrows():\n",
    "        tree.insert(\"\", tk.END, values=list(row))\n",
    "\n",
    "# Create main window\n",
    "root = tk.Tk()\n",
    "root.title(\"CSV Viewer\")\n",
    "\n",
    "# Create button to load CSV\n",
    "btn_load = tk.Button(root, text=\"Load CSV\", command=load_csv)\n",
    "btn_load.pack(pady=10)\n",
    "\n",
    "# Create Treeview widget\n",
    "tree = ttk.Treeview(root, style=\"Custom.Treeview\")  # Add custom style\n",
    "tree.pack(expand=True, fill=\"both\")\n",
    "\n",
    "# Style Treeview to center text\n",
    "style = ttk.Style()\n",
    "style.configure(\"Treeview\", rowheight=25)  # Adjust row height for better visibility\n",
    "style.configure(\"Treeview.Heading\", anchor=\"center\")  # Center align column headers\n",
    "style.configure(\"Treeview\", font=(\"Arial\", 12))  # Increase font size\n",
    "\n",
    "root.mainloop()"
   ]
  }
 ],
 "metadata": {
  "kernelspec": {
   "display_name": "Python 3",
   "language": "python",
   "name": "python3"
  },
  "language_info": {
   "codemirror_mode": {
    "name": "ipython",
    "version": 3
   },
   "file_extension": ".py",
   "mimetype": "text/x-python",
   "name": "python",
   "nbconvert_exporter": "python",
   "pygments_lexer": "ipython3",
   "version": "3.11.8"
  }
 },
 "nbformat": 4,
 "nbformat_minor": 2
}
