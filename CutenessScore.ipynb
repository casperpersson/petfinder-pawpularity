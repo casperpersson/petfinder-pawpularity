{
 "cells": [
  {
   "cell_type": "code",
   "execution_count": 9,
   "metadata": {},
   "outputs": [
    {
     "name": "stderr",
     "output_type": "stream",
     "text": [
      "ERROR: Could not find a version that satisfies the requirement tkinter (from versions: none)\n",
      "ERROR: No matching distribution found for tkinter\n"
     ]
    },
    {
     "name": "stdout",
     "output_type": "stream",
     "text": [
      "Note: you may need to restart the kernel to use updated packages.\n"
     ]
    }
   ],
   "source": [
    "%pip install tkinter \n",
    "#%pip install pillow\n",
    "\n",
    "import tkinter as tk\n",
    "from tkinter import filedialog\n",
    "from PIL import Image, ImageTk\n",
    "import os\n",
    "\n"
   ]
  },
  {
   "cell_type": "code",
   "execution_count": null,
   "metadata": {},
   "outputs": [],
   "source": [
    "class ImageViewer:\n",
    "    def __init__(self, root):\n",
    "        self.root = root\n",
    "        self.root.title(\"Image Viewer\")\n",
    "        self.root.geometry(\"800x600\")\n",
    "\n",
    "        # Left panel: List of images\n",
    "        self.frame_left = tk.Frame(root, width=200, bg=\"gray\")\n",
    "        self.frame_left.pack(side=tk.LEFT, fill=tk.Y)\n",
    "\n",
    "        self.btn_open_folder = tk.Button(self.frame_left, text=\"Open Folder\", command=self.load_images)\n",
    "        self.btn_open_folder.pack(pady=10)\n",
    "\n",
    "        self.listbox = tk.Listbox(self.frame_left)\n",
    "        self.listbox.pack(fill=tk.BOTH, expand=True)\n",
    "        self.listbox.bind(\"<<ListboxSelect>>\", self.show_selected_image)\n",
    "\n",
    "        # Right panel: Image display\n",
    "        self.frame_right = tk.Frame(root, bg=\"white\")\n",
    "        self.frame_right.pack(side=tk.RIGHT, fill=tk.BOTH, expand=True)\n",
    "\n",
    "        self.image_label = tk.Label(self.frame_right, bg=\"white\")\n",
    "        self.image_label.pack(expand=True)\n",
    "\n",
    "        self.image_paths = []  # Store image file paths\n",
    "\n",
    "    def load_images(self):\n",
    "        \"\"\"Load images from a folder and show as thumbnails.\"\"\"\n",
    "        folder_selected = filedialog.askdirectory()\n",
    "        if not folder_selected:\n",
    "            return\n",
    "\n",
    "        self.image_paths = [os.path.join(folder_selected, f) for f in os.listdir(folder_selected)\n",
    "                            if f.lower().endswith((\"png\", \"jpg\", \"jpeg\", \"bmp\", \"gif\"))]\n",
    "        self.listbox.delete(0, tk.END)\n",
    "\n",
    "        for img_path in self.image_paths:\n",
    "            self.listbox.insert(tk.END, os.path.basename(img_path))\n",
    "\n",
    "    def show_selected_image(self, event):\n",
    "        \"\"\"Display selected image on the right panel.\"\"\"\n",
    "        selected_index = self.listbox.curselection()\n",
    "        if not selected_index:\n",
    "            return\n",
    "        \n",
    "        image_path = self.image_paths[selected_index[0]]\n",
    "        image = Image.open(image_path)\n",
    "        image = image.resize((500, 400), Image.Resampling.LANCZOS)  # Resize for display\n",
    "        img_tk = ImageTk.PhotoImage(image)\n",
    "\n",
    "        self.image_label.config(image=img_tk)\n",
    "        self.image_label.image = img_tk  # Keep a reference\n",
    "\n",
    "# Run the application\n",
    "root = tk.Tk()\n",
    "app = ImageViewer(root)\n",
    "root.mainloop()\n"
   ]
  }
 ],
 "metadata": {
  "kernelspec": {
   "display_name": "Python 3",
   "language": "python",
   "name": "python3"
  },
  "language_info": {
   "codemirror_mode": {
    "name": "ipython",
    "version": 3
   },
   "file_extension": ".py",
   "mimetype": "text/x-python",
   "name": "python",
   "nbconvert_exporter": "python",
   "pygments_lexer": "ipython3",
   "version": "3.11.8"
  }
 },
 "nbformat": 4,
 "nbformat_minor": 2
}
