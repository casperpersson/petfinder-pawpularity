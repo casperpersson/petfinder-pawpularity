{
 "cells": [
  {
   "cell_type": "code",
   "execution_count": 1,
   "metadata": {},
   "outputs": [
    {
     "name": "stdout",
     "output_type": "stream",
     "text": [
      "Modellens nøjagtighed: 0.9264\n"
     ]
    }
   ],
   "source": [
    "import pandas as pd\n",
    "from sklearn.model_selection import train_test_split\n",
    "from sklearn.naive_bayes import GaussianNB\n",
    "from sklearn.metrics import accuracy_score\n",
    "\n",
    "# 1. Læs data\n",
    "df = pd.read_csv('../petfinder-pawpularity-score/train.csv')\n",
    "\n",
    "# 2. Juster Pawpularity til 0 eller 1\n",
    "df['Pawpularity'] = df['Pawpularity'].apply(lambda x: 0 if x <= 75 else 1)\n",
    "\n",
    "# 3. Definer funktioner (X) og målvariabel (y)\n",
    "X = df[['Eyes', 'Face', 'Occlusion']]  # Features\n",
    "y = df['Pawpularity']  # Målvariabel\n",
    "\n",
    "# 4. Del dataene i trænings- og testdatasæt\n",
    "X_train, X_test, y_train, y_test = train_test_split(X, y, test_size=0.2, random_state=42)\n",
    "\n",
    "# 5. Byg og træn en Gaussian Naive Bayes-model\n",
    "model = GaussianNB()\n",
    "model.fit(X_train, y_train)\n",
    "\n",
    "# 6. Forudsig på testdatasættet\n",
    "y_pred = model.predict(X_test)\n",
    "\n",
    "# 7. Beregn og udskriv nøjagtigheden\n",
    "accuracy = accuracy_score(y_test, y_pred)\n",
    "print(f'Modellens nøjagtighed: {accuracy:.4f}')\n"
   ]
  }
 ],
 "metadata": {
  "kernelspec": {
   "display_name": "Python 3",
   "language": "python",
   "name": "python3"
  },
  "language_info": {
   "codemirror_mode": {
    "name": "ipython",
    "version": 3
   },
   "file_extension": ".py",
   "mimetype": "text/x-python",
   "name": "python",
   "nbconvert_exporter": "python",
   "pygments_lexer": "ipython3",
   "version": "3.13.2"
  }
 },
 "nbformat": 4,
 "nbformat_minor": 2
}
