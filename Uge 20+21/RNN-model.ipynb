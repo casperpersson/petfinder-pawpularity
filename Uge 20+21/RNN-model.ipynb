{
 "cells": [
  {
   "cell_type": "markdown",
   "id": "92ccb280",
   "metadata": {},
   "source": [
    "Uge 20 + 21"
   ]
  },
  {
   "cell_type": "markdown",
   "id": "79b09447",
   "metadata": {},
   "source": [
    "Imports og klargøring af data"
   ]
  },
  {
   "cell_type": "code",
   "execution_count": 4,
   "id": "7440b5a0",
   "metadata": {},
   "outputs": [],
   "source": [
    "import torch\n",
    "import torch.nn as nn\n",
    "import torch.optim as optim\n",
    "from sklearn.datasets import load_breast_cancer\n",
    "from sklearn.model_selection import train_test_split\n",
    "from sklearn.preprocessing import MinMaxScaler\n",
    "from torch.utils.data import DataLoader, TensorDataset\n",
    "\n",
    "# Load og skaler data\n",
    "data = load_breast_cancer()\n",
    "X = data.data\n",
    "y = data.target\n",
    "\n",
    "scaler = MinMaxScaler()\n",
    "X_scaled = scaler.fit_transform(X)\n",
    "\n",
    "# RNN kræver 3D input: (samples, sequence_length, features)\n",
    "X_seq = X_scaled.reshape((X_scaled.shape[0], 10, 3))  # 10 timesteps à 3 features\n",
    "\n",
    "# Split data\n",
    "X_train, X_test, y_train, y_test = train_test_split(X_seq, y, test_size=0.2, random_state=42)\n",
    "\n",
    "# Konverter til tensor\n",
    "X_train_tensor = torch.tensor(X_train, dtype=torch.float32)\n",
    "y_train_tensor = torch.tensor(y_train, dtype=torch.float32).unsqueeze(1)\n",
    "X_test_tensor = torch.tensor(X_test, dtype=torch.float32)\n",
    "y_test_tensor = torch.tensor(y_test, dtype=torch.float32).unsqueeze(1)\n",
    "\n",
    "# DataLoaders\n",
    "train_dataset = TensorDataset(X_train_tensor, y_train_tensor)\n",
    "test_dataset = TensorDataset(X_test_tensor, y_test_tensor)\n",
    "\n",
    "train_loader = DataLoader(train_dataset, batch_size=16, shuffle=True)\n",
    "test_loader = DataLoader(test_dataset, batch_size=16)\n"
   ]
  },
  {
   "cell_type": "markdown",
   "id": "8b124a1b",
   "metadata": {},
   "source": [
    "Definer RNN-modller (LSTM og GRU)"
   ]
  },
  {
   "cell_type": "code",
   "execution_count": 5,
   "id": "ec95cc8c",
   "metadata": {},
   "outputs": [],
   "source": [
    "class RNNClassifier(nn.Module):\n",
    "    def __init__(self, input_size, hidden_size, rnn_type=\"LSTM\"):\n",
    "        super(RNNClassifier, self).__init__()\n",
    "        self.rnn_type = rnn_type\n",
    "        if rnn_type == \"LSTM\":\n",
    "            self.rnn = nn.LSTM(input_size, hidden_size, batch_first=True)\n",
    "        elif rnn_type == \"GRU\":\n",
    "            self.rnn = nn.GRU(input_size, hidden_size, batch_first=True)\n",
    "        else:\n",
    "            raise ValueError(\"Vælg enten 'LSTM' eller 'GRU'\")\n",
    "        \n",
    "        self.fc = nn.Linear(hidden_size, 1)\n",
    "        self.sigmoid = nn.Sigmoid()\n",
    "\n",
    "    def forward(self, x):\n",
    "        out, _ = self.rnn(x)\n",
    "        out = out[:, -1, :]  # brug sidste tidssteg\n",
    "        out = self.fc(out)\n",
    "        return self.sigmoid(out)\n"
   ]
  },
  {
   "cell_type": "markdown",
   "id": "6dd3309c",
   "metadata": {},
   "source": [
    "Trænings- og evalueringsfunktion"
   ]
  },
  {
   "cell_type": "code",
   "execution_count": 6,
   "id": "5934dc80",
   "metadata": {},
   "outputs": [],
   "source": [
    "def train_model(model, train_loader, epochs=20, lr=0.001):\n",
    "    criterion = nn.BCELoss()\n",
    "    optimizer = optim.Adam(model.parameters(), lr=lr)\n",
    "\n",
    "    model.train()\n",
    "    for epoch in range(epochs):\n",
    "        total_loss = 0\n",
    "        for inputs, labels in train_loader:\n",
    "            optimizer.zero_grad()\n",
    "            outputs = model(inputs)\n",
    "            loss = criterion(outputs, labels)\n",
    "            loss.backward()\n",
    "            optimizer.step()\n",
    "            total_loss += loss.item()\n",
    "        print(f\"Epoch {epoch+1}, Loss: {total_loss:.4f}\")\n",
    "\n",
    "def evaluate_model(model, test_loader):\n",
    "    model.eval()\n",
    "    correct = 0\n",
    "    total = 0\n",
    "    with torch.no_grad():\n",
    "        for inputs, labels in test_loader:\n",
    "            outputs = model(inputs)\n",
    "            preds = (outputs > 0.5).float()\n",
    "            correct += (preds == labels).sum().item()\n",
    "            total += labels.size(0)\n",
    "    print(f\"Test Accuracy: {correct / total:.2f}\")\n"
   ]
  },
  {
   "cell_type": "markdown",
   "id": "2e3b6f56",
   "metadata": {},
   "source": [
    "Træn og evaluer LSTM og GRU"
   ]
  },
  {
   "cell_type": "code",
   "execution_count": 10,
   "id": "81149d21",
   "metadata": {},
   "outputs": [
    {
     "name": "stdout",
     "output_type": "stream",
     "text": [
      "\n",
      "Træner LSTM model:\n",
      "Epoch 1, Loss: 19.5123\n",
      "Epoch 2, Loss: 19.0794\n",
      "Epoch 3, Loss: 17.7137\n",
      "Epoch 4, Loss: 12.2621\n",
      "Epoch 5, Loss: 8.9181\n",
      "Epoch 6, Loss: 8.2776\n",
      "Epoch 7, Loss: 7.5474\n",
      "Epoch 8, Loss: 7.0457\n",
      "Epoch 9, Loss: 7.5986\n",
      "Epoch 10, Loss: 6.8994\n",
      "Epoch 11, Loss: 6.3209\n",
      "Epoch 12, Loss: 6.4415\n",
      "Epoch 13, Loss: 6.2229\n",
      "Epoch 14, Loss: 6.0635\n",
      "Epoch 15, Loss: 6.1301\n",
      "Epoch 16, Loss: 5.9285\n",
      "Epoch 17, Loss: 6.0567\n",
      "Epoch 18, Loss: 5.8915\n",
      "Epoch 19, Loss: 5.6796\n",
      "Epoch 20, Loss: 5.9673\n",
      "Test Accuracy: 0.95\n",
      "\n",
      "Træner GRU model:\n",
      "Epoch 1, Loss: 19.5546\n",
      "Epoch 2, Loss: 19.0743\n",
      "Epoch 3, Loss: 18.3770\n",
      "Epoch 4, Loss: 15.6546\n",
      "Epoch 5, Loss: 9.1394\n",
      "Epoch 6, Loss: 7.8356\n",
      "Epoch 7, Loss: 7.3411\n",
      "Epoch 8, Loss: 6.8411\n",
      "Epoch 9, Loss: 6.3146\n",
      "Epoch 10, Loss: 7.0504\n",
      "Epoch 11, Loss: 6.3296\n",
      "Epoch 12, Loss: 6.6261\n",
      "Epoch 13, Loss: 6.6350\n",
      "Epoch 14, Loss: 6.9358\n",
      "Epoch 15, Loss: 6.2774\n",
      "Epoch 16, Loss: 6.1204\n",
      "Epoch 17, Loss: 5.7863\n",
      "Epoch 18, Loss: 5.8007\n",
      "Epoch 19, Loss: 5.6758\n",
      "Epoch 20, Loss: 5.9897\n",
      "Test Accuracy: 0.95\n"
     ]
    }
   ],
   "source": [
    "for rnn_type in [\"LSTM\", \"GRU\"]:\n",
    "    print(f\"\\nTræner {rnn_type} model:\")\n",
    "    model = RNNClassifier(input_size=3, hidden_size=32, rnn_type=rnn_type)\n",
    "    train_model(model, train_loader, epochs=20)\n",
    "    evaluate_model(model, test_loader)\n"
   ]
  },
  {
   "cell_type": "markdown",
   "id": "ba95ea50",
   "metadata": {},
   "source": [
    "Ny patient test"
   ]
  },
  {
   "cell_type": "code",
   "execution_count": 15,
   "id": "07759007",
   "metadata": {},
   "outputs": [
    {
     "name": "stdout",
     "output_type": "stream",
     "text": [
      "Forudsigelse: Kræft\n"
     ]
    }
   ],
   "source": [
    "new_patient = torch.tensor(X_test[0].reshape(1, 10, 3), dtype=torch.float32)\n",
    "model.eval()\n",
    "with torch.no_grad():\n",
    "    output = model(new_patient)\n",
    "    prediction = \"Kræft\" if output.item() > 0.5 else \"Rask\"\n",
    "    print(\"Forudsigelse:\", prediction)\n"
   ]
  }
 ],
 "metadata": {
  "kernelspec": {
   "display_name": "Python 3",
   "language": "python",
   "name": "python3"
  },
  "language_info": {
   "codemirror_mode": {
    "name": "ipython",
    "version": 3
   },
   "file_extension": ".py",
   "mimetype": "text/x-python",
   "name": "python",
   "nbconvert_exporter": "python",
   "pygments_lexer": "ipython3",
   "version": "3.13.2"
  }
 },
 "nbformat": 4,
 "nbformat_minor": 5
}
